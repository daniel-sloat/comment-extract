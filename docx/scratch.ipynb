{
 "cells": [
  {
   "cell_type": "code",
   "execution_count": 2,
   "metadata": {},
   "outputs": [],
   "source": [
    "from lxml import etree\n",
    "\n",
    "from zipfile import ZipFile\n",
    "from pathlib import Path\n",
    "\n",
    "from io import BytesIO\n",
    "\n",
    "from ooxml_ns import *"
   ]
  },
  {
   "cell_type": "code",
   "execution_count": null,
   "metadata": {},
   "outputs": [],
   "source": [
    "from filenameparser import FileNameParser"
   ]
  },
  {
   "cell_type": "code",
   "execution_count": 23,
   "metadata": {},
   "outputs": [],
   "source": [
    "file = Path(\"../input/45-Day/100-MDAQMD2.docx\")"
   ]
  },
  {
   "cell_type": "code",
   "execution_count": null,
   "metadata": {},
   "outputs": [],
   "source": [
    "class Document:\n",
    "    def __init__(self, filename):\n",
    "        self.file = FileNameParser(filename)\n",
    "\n",
    "    @property\n",
    "    def xml(self):\n",
    "        with ZipFile(self.file.path, \"r\") as z:\n",
    "            return {\n",
    "                filename: etree.iterparse(BytesIO(z.read(filename)), \n",
    "                                        #   events=[\"start\",\"end\"],\n",
    "                                          tag=[\"{*}commentRangeStart\", \"{*}p\", \"{*}r\", \"{*}commentRangeEnd\"])\n",
    "                for filename in z.namelist()\n",
    "                if \".xml\" in filename\n",
    "            }"
   ]
  },
  {
   "cell_type": "code",
   "execution_count": null,
   "metadata": {},
   "outputs": [],
   "source": [
    "from document import Document"
   ]
  },
  {
   "cell_type": "code",
   "execution_count": null,
   "metadata": {},
   "outputs": [],
   "source": [
    "doc = Document(file)"
   ]
  },
  {
   "cell_type": "code",
   "execution_count": null,
   "metadata": {},
   "outputs": [],
   "source": [
    "def things(doc):\n",
    "    for event, element in doc.xml['word/document.xml']:\n",
    "        if \"commentRangeStart\" in element.tag:\n",
    "            _id = element.attrib[f\"{{{ooXMLns['w']}}}id\"]\n",
    "            yield element\n",
    "        if \"commentRangeEnd\" in element.tag and element.attrib[f\"{{{ooXMLns['w']}}}id\"] == _id:\n",
    "            raise StopIteration"
   ]
  },
  {
   "cell_type": "code",
   "execution_count": null,
   "metadata": {},
   "outputs": [],
   "source": [
    "for element in doc.xml['word/document.xml'][0]:\n",
    "    print(element.tag)"
   ]
  },
  {
   "cell_type": "code",
   "execution_count": null,
   "metadata": {},
   "outputs": [],
   "source": [
    "gen = things(doc)"
   ]
  },
  {
   "cell_type": "code",
   "execution_count": null,
   "metadata": {},
   "outputs": [],
   "source": [
    "for g in gen:\n",
    "    for element in g.iter():\n",
    "        print(element)"
   ]
  },
  {
   "cell_type": "code",
   "execution_count": null,
   "metadata": {},
   "outputs": [],
   "source": []
  }
 ],
 "metadata": {
  "kernelspec": {
   "display_name": "Python 3.10.8 64-bit",
   "language": "python",
   "name": "python3"
  },
  "language_info": {
   "codemirror_mode": {
    "name": "ipython",
    "version": 3
   },
   "file_extension": ".py",
   "mimetype": "text/x-python",
   "name": "python",
   "nbconvert_exporter": "python",
   "pygments_lexer": "ipython3",
   "version": "3.10.8"
  },
  "orig_nbformat": 4,
  "vscode": {
   "interpreter": {
    "hash": "949777d72b0d2535278d3dc13498b2535136f6dfe0678499012e853ee9abcab1"
   }
  }
 },
 "nbformat": 4,
 "nbformat_minor": 2
}
